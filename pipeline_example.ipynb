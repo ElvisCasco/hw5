{
 "cells": [
  {
   "cell_type": "markdown",
   "id": "64315aa3",
   "metadata": {},
   "source": [
    "\"# Pipeline: load → preprocess → feature engineering → train → predict\\n\",\n",
    "This notebook runs the same steps as main.py but shows intermediate results and computes ROC AUC on the test set."
   ]
  },
  {
   "cell_type": "code",
   "execution_count": 3,
   "id": "ddae5354",
   "metadata": {},
   "outputs": [
    {
     "ename": "ModuleNotFoundError",
     "evalue": "No module named 'process_data.data'",
     "output_type": "error",
     "traceback": [
      "\u001b[31m---------------------------------------------------------------------------\u001b[39m",
      "\u001b[31mModuleNotFoundError\u001b[39m                       Traceback (most recent call last)",
      "\u001b[36mCell\u001b[39m\u001b[36m \u001b[39m\u001b[32mIn[3]\u001b[39m\u001b[32m, line 1\u001b[39m\n\u001b[32m----> \u001b[39m\u001b[32m1\u001b[39m \u001b[38;5;28;01mfrom\u001b[39;00m\u001b[38;5;250m \u001b[39m\u001b[34;01mprocess_data\u001b[39;00m\u001b[34;01m.\u001b[39;00m\u001b[34;01mdata\u001b[39;00m\u001b[34;01m.\u001b[39;00m\u001b[34;01mdata_preprocessing_all\u001b[39;00m\u001b[38;5;250m \u001b[39m\u001b[38;5;28;01mimport\u001b[39;00m CSVDataLoader, DataPreprocessor\n\u001b[32m      2\u001b[39m \u001b[38;5;28;01mfrom\u001b[39;00m\u001b[38;5;250m \u001b[39m\u001b[34;01mprocess_data\u001b[39;00m\u001b[34;01m.\u001b[39;00m\u001b[34;01mfeatures\u001b[39;00m\u001b[34;01m.\u001b[39;00m\u001b[34;01mfeature_transform\u001b[39;00m\u001b[38;5;250m \u001b[39m\u001b[38;5;28;01mimport\u001b[39;00m BMICalculator, EthnicityEncoder, GenderBinaryEncoder\n\u001b[32m      3\u001b[39m \u001b[38;5;28;01mfrom\u001b[39;00m\u001b[38;5;250m \u001b[39m\u001b[34;01msklearn\u001b[39;00m\u001b[34;01m.\u001b[39;00m\u001b[34;01mmetrics\u001b[39;00m\u001b[38;5;250m \u001b[39m\u001b[38;5;28;01mimport\u001b[39;00m roc_auc_score\n",
      "\u001b[31mModuleNotFoundError\u001b[39m: No module named 'process_data.data'"
     ]
    }
   ],
   "source": [
    "from process_data.data.data_preprocessing_all import CSVDataLoader, DataPreprocessor\n",
    "from process_data.features.feature_transform import BMICalculator, EthnicityEncoder, GenderBinaryEncoder\n",
    "from sklearn.metrics import roc_auc_score\n",
    "import pandas as pd\n",
    "import numpy as np"
   ]
  },
  {
   "cell_type": "code",
   "execution_count": 4,
   "id": "225b3d5f",
   "metadata": {},
   "outputs": [
    {
     "name": "stdout",
     "output_type": "stream",
     "text": [
      "\n",
      "Data loaded. Shape: (10000, 53)\n",
      "\n",
      "Data split: \n",
      "Train ((8000, 53)), \n",
      "Test ((2000, 53))\n",
      "\n",
      "Loaded: \n",
      "train rows= 8000 \n",
      "test rows= 2000\n"
     ]
    }
   ],
   "source": [
    "# File path to data\n",
    "file_name = \"C:/EC/BSE/DSDM/Term 1/21DM004 Computing for Data Science/hw5/process_data_project/process_data/data/sample_diabetes_mellitus_data.csv\"\n",
    "loader = CSVDataLoader(file_name)\n",
    "train_df, test_df = loader.split_data()\n",
    "print(\"Loaded: \\ntrain rows=\", len(train_df), \"\\ntest rows=\", len(test_df))\n",
    "  "
   ]
  },
  {
   "cell_type": "code",
   "execution_count": null,
   "id": "9a18dabc",
   "metadata": {},
   "outputs": [
    {
     "name": "stdout",
     "output_type": "stream",
     "text": [
      "Data after removing rows with NaNs in ['age', 'gender', 'ethnicity']: \n",
      "Train ((7494, 53)), \n",
      "Test ((1874, 53))\n",
      "\n",
      "Filled NaNs in ['height', 'weight'] with mean.\n",
      "\n",
      "After preprocessing: train columns= ['Unnamed: 0', 'encounter_id', 'hospital_id', 'age', 'bmi', 'elective_surgery', 'ethnicity', 'gender', 'height', 'hospital_admit_source', 'icu_admit_source', 'icu_id', 'icu_stay_type', 'icu_type', 'pre_icu_los_days', 'readmission_status', 'weight', 'albumin_apache', 'apache_2_diagnosis', 'apache_3j_diagnosis', 'apache_post_operative', 'arf_apache', 'bilirubin_apache', 'bun_apache', 'creatinine_apache', 'fio2_apache', 'gcs_eyes_apache', 'gcs_motor_apache', 'gcs_unable_apache', 'gcs_verbal_apache', 'glucose_apache', 'heart_rate_apache', 'hematocrit_apache', 'intubated_apache', 'map_apache', 'paco2_apache', 'paco2_for_ph_apache', 'pao2_apache', 'ph_apache', 'resprate_apache', 'sodium_apache', 'temp_apache', 'urineoutput_apache', 'ventilated_apache', 'wbc_apache', 'aids', 'cirrhosis', 'hepatic_failure', 'immunosuppression', 'leukemia', 'lymphoma', 'solid_tumor_with_metastasis', 'diabetes_mellitus']\n"
     ]
    }
   ],
   "source": [
    "# Preprocess (remove required nans, fill mean for numeric cols)\n",
    "preprocessor = DataPreprocessor(train_df, test_df)\n",
    "train_clean, test_clean = preprocessor.remove_nans(['age', 'gender', 'ethnicity']).fill_nans_with_mean(['height', 'weight']).get_data()\n",
    "print(\"After preprocessing: train columns=\", train_clean.columns.tolist())  "
   ]
  },
  {
   "cell_type": "code",
   "execution_count": 7,
   "id": "30ebf93a",
   "metadata": {},
   "outputs": [
    {
     "name": "stdout",
     "output_type": "stream",
     "text": [
      "Applied BMICalculator: produced -> ['bmi']\n",
      "\n",
      "Final train columns: ['Unnamed: 0', 'encounter_id', 'hospital_id', 'age', 'bmi', 'elective_surgery', 'ethnicity', 'gender', 'height', 'hospital_admit_source', 'icu_admit_source', 'icu_id', 'icu_stay_type', 'icu_type', 'pre_icu_los_days', 'readmission_status', 'weight', 'albumin_apache', 'apache_2_diagnosis', 'apache_3j_diagnosis', 'apache_post_operative', 'arf_apache', 'bilirubin_apache', 'bun_apache', 'creatinine_apache', 'fio2_apache', 'gcs_eyes_apache', 'gcs_motor_apache', 'gcs_unable_apache', 'gcs_verbal_apache', 'glucose_apache', 'heart_rate_apache', 'hematocrit_apache', 'intubated_apache', 'map_apache', 'paco2_apache', 'paco2_for_ph_apache', 'pao2_apache', 'ph_apache', 'resprate_apache', 'sodium_apache', 'temp_apache', 'urineoutput_apache', 'ventilated_apache', 'wbc_apache', 'aids', 'cirrhosis', 'hepatic_failure', 'immunosuppression', 'leukemia', 'lymphoma', 'solid_tumor_with_metastasis', 'diabetes_mellitus']\n",
      "Applied EthnicityEncoder: produced -> ['ethnicity_African American', 'ethnicity_Asian', 'ethnicity_Caucasian', 'ethnicity_Hispanic', 'ethnicity_Native American', 'ethnicity_Other/Unknown']\n",
      "\n",
      "Final train columns: ['Unnamed: 0', 'encounter_id', 'hospital_id', 'age', 'bmi', 'elective_surgery', 'ethnicity', 'gender', 'height', 'hospital_admit_source', 'icu_admit_source', 'icu_id', 'icu_stay_type', 'icu_type', 'pre_icu_los_days', 'readmission_status', 'weight', 'albumin_apache', 'apache_2_diagnosis', 'apache_3j_diagnosis', 'apache_post_operative', 'arf_apache', 'bilirubin_apache', 'bun_apache', 'creatinine_apache', 'fio2_apache', 'gcs_eyes_apache', 'gcs_motor_apache', 'gcs_unable_apache', 'gcs_verbal_apache', 'glucose_apache', 'heart_rate_apache', 'hematocrit_apache', 'intubated_apache', 'map_apache', 'paco2_apache', 'paco2_for_ph_apache', 'pao2_apache', 'ph_apache', 'resprate_apache', 'sodium_apache', 'temp_apache', 'urineoutput_apache', 'ventilated_apache', 'wbc_apache', 'aids', 'cirrhosis', 'hepatic_failure', 'immunosuppression', 'leukemia', 'lymphoma', 'solid_tumor_with_metastasis', 'diabetes_mellitus', 'ethnicity_African American', 'ethnicity_Asian', 'ethnicity_Caucasian', 'ethnicity_Hispanic', 'ethnicity_Native American', 'ethnicity_Other/Unknown']\n",
      "Applied GenderBinaryEncoder: produced -> ['gender_M', 'gender_F']\n",
      "\n",
      "Final train columns: ['Unnamed: 0', 'encounter_id', 'hospital_id', 'age', 'bmi', 'elective_surgery', 'ethnicity', 'gender', 'height', 'hospital_admit_source', 'icu_admit_source', 'icu_id', 'icu_stay_type', 'icu_type', 'pre_icu_los_days', 'readmission_status', 'weight', 'albumin_apache', 'apache_2_diagnosis', 'apache_3j_diagnosis', 'apache_post_operative', 'arf_apache', 'bilirubin_apache', 'bun_apache', 'creatinine_apache', 'fio2_apache', 'gcs_eyes_apache', 'gcs_motor_apache', 'gcs_unable_apache', 'gcs_verbal_apache', 'glucose_apache', 'heart_rate_apache', 'hematocrit_apache', 'intubated_apache', 'map_apache', 'paco2_apache', 'paco2_for_ph_apache', 'pao2_apache', 'ph_apache', 'resprate_apache', 'sodium_apache', 'temp_apache', 'urineoutput_apache', 'ventilated_apache', 'wbc_apache', 'aids', 'cirrhosis', 'hepatic_failure', 'immunosuppression', 'leukemia', 'lymphoma', 'solid_tumor_with_metastasis', 'diabetes_mellitus', 'ethnicity_African American', 'ethnicity_Asian', 'ethnicity_Caucasian', 'ethnicity_Hispanic', 'ethnicity_Native American', 'ethnicity_Other/Unknown', 'gender_M', 'gender_F']\n"
     ]
    }
   ],
   "source": [
    "# Apply feature transformers\n",
    "transformers = [BMICalculator(), EthnicityEncoder(), GenderBinaryEncoder()]\n",
    "for t in transformers:\n",
    "    train_clean = t.transform(train_clean)\n",
    "    test_clean = t.transform(test_clean)\n",
    "    print(f\"Applied {t.__class__.__name__}: produced -> {t.get_feature_names()}\")\n",
    "    print('\\nFinal train columns:', train_clean.columns.tolist())  "
   ]
  },
  {
   "cell_type": "code",
   "execution_count": 8,
   "id": "4856e9c7",
   "metadata": {},
   "outputs": [
    {
     "name": "stdout",
     "output_type": "stream",
     "text": [
      "Feature cols used: ['age', 'bmi', 'gender_M', 'gender_F', 'ethnicity_African American', 'ethnicity_Asian', 'ethnicity_Caucasian', 'ethnicity_Hispanic', 'ethnicity_Native American', 'ethnicity_Other/Unknown']\n",
      "Target: diabetes_mellitus\n"
     ]
    }
   ],
   "source": [
    "# Define features and target\n",
    "feature_cols = ['age', 'bmi', 'gender_M', 'gender_F'] + [c for c in train_clean.columns if c.startswith('ethnicity_')]\n",
    "target_col = 'diabetes_mellitus'\n",
    "print('Feature cols used:', feature_cols)\n",
    "print('Target:', target_col)\n",
    " "
   ]
  },
  {
   "cell_type": "code",
   "execution_count": null,
   "id": "8fa40701",
   "metadata": {},
   "outputs": [
    {
     "name": "stdout",
     "output_type": "stream",
     "text": [
      "Model trained.\n"
     ]
    }
   ],
   "source": [
    "# Initialize and train model\n",
    "from model.predictor import DiabetesModel\n",
    "model = DiabetesModel(feature_columns=feature_cols, target_column=target_col, hyperparameters={'n_estimators':200, 'max_depth':10, 'random_state':42})\n",
    "model.train(train_clean)\n",
    "print('Model trained.') "
   ]
  },
  {
   "cell_type": "code",
   "execution_count": 13,
   "id": "d6baa16f",
   "metadata": {},
   "outputs": [
    {
     "name": "stdout",
     "output_type": "stream",
     "text": [
      "Predictions added to test dataframe.\n"
     ]
    }
   ],
   "source": [
    "# Predict probabilities on test set\n",
    "probs = model.predict(test_clean)  # shape (n_samples, n_classes)\n",
    "if probs.ndim == 2:\n",
    "    pos_probs = probs[:, 1]\n",
    "else:\n",
    "    #fallback: if single-column probabilities provided\n",
    "    pos_probs = probs\n",
    "test_with_preds = test_clean.copy()\n",
    "test_with_preds['predictions_prob'] = pos_probs\n",
    "test_with_preds['predictions'] = (pos_probs >= 0.5).astype(int)\n",
    "print('Predictions added to test dataframe.')"
   ]
  },
  {
   "cell_type": "code",
   "execution_count": 14,
   "id": "f0f5f736",
   "metadata": {},
   "outputs": [
    {
     "name": "stdout",
     "output_type": "stream",
     "text": [
      "Test ROC AUC: 0.6618\n",
      "Train ROC AUC: 0.8454\n"
     ]
    }
   ],
   "source": [
    "# Compute ROC AUC on test set (and train set if desired)\n",
    "y_test = test_with_preds[target_col]\n",
    "test_auc = roc_auc_score(y_test, test_with_preds['predictions_prob'])\n",
    "print(f\"Test ROC AUC: {test_auc:.4f}\")\n",
    "# Optionally compute train AUC as well\n",
    "train_probs = model.predict(train_clean)\n",
    "train_pos = train_probs[:, 1] if train_probs.ndim == 2 else train_probs\n",
    "train_auc = roc_auc_score(train_clean[target_col], train_pos)\n",
    "print(f\"Train ROC AUC: {train_auc:.4f}\")"
   ]
  },
  {
   "cell_type": "code",
   "execution_count": null,
   "id": "e1030425",
   "metadata": {},
   "outputs": [],
   "source": [
    "# Show sample of test_with_preds\\n\",\n",
    "test_with_preds[['predictions_prob','predictions', target_col]].head(10)"
   ]
  }
 ],
 "metadata": {
  "kernelspec": {
   "display_name": "Python (myenv)",
   "language": "python",
   "name": "myenv"
  },
  "language_info": {
   "codemirror_mode": {
    "name": "ipython",
    "version": 3
   },
   "file_extension": ".py",
   "mimetype": "text/x-python",
   "name": "python",
   "nbconvert_exporter": "python",
   "pygments_lexer": "ipython3",
   "version": "3.13.7"
  }
 },
 "nbformat": 4,
 "nbformat_minor": 5
}
