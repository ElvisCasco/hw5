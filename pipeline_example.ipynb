{
 "cells": [
  {
   "cell_type": "markdown",
   "id": "64315aa3",
   "metadata": {},
   "source": [
    "\"# Pipeline: load → preprocess → feature engineering → train → predict\\n\",\n",
    "This notebook runs the same steps as main.py but shows intermediate results and computes ROC AUC on the test set."
   ]
  },
  {
   "cell_type": "code",
<<<<<<< HEAD
   "execution_count": null,
=======
   "execution_count": 1,
>>>>>>> 312f908 (fixed UV packages in toml, tested all workflow in notebook, fixed imports in uv and did uv pip install e .)
   "id": "ddae5354",
   "metadata": {},
   "outputs": [
    {
     "name": "stdout",
     "output_type": "stream",
     "text": [
      "Encoded columns: \n",
      "\n",
      "BMI = Weight / Height^2\n"
     ]
    }
   ],
   "source": [
    "from process_data.data.data_preprocessing_all import CSVDataLoader, DataPreprocessor\n",
    "from process_data.features.feature_transform import BMICalculator, EthnicityEncoder, GenderBinaryEncoder\n",
    "from sklearn.metrics import roc_auc_score\n",
    "import pandas as pd\n",
    "import numpy as np"
   ]
  },
  {
   "cell_type": "code",
   "execution_count": 3,
   "id": "225b3d5f",
   "metadata": {},
   "outputs": [
    {
     "name": "stdout",
     "output_type": "stream",
     "text": [
      "\n",
      "Data loaded. Shape: (10000, 53)\n",
      "\n",
      "Data split: \n",
      "Train ((8000, 53)), \n",
      "Test ((2000, 53))\n",
      "\n",
      "Loaded: \n",
      "train rows= 8000 \n",
      "test rows= 2000\n"
     ]
    }
   ],
   "source": [
    "# File path to data\n",
    "file_name = \"sample_diabetes_mellitus_data.csv\"\n",
    "loader = CSVDataLoader(file_name)\n",
    "train_df, test_df = loader.split_data()\n",
    "print(\"Loaded: \\ntrain rows=\", len(train_df), \"\\ntest rows=\", len(test_df))\n",
    "  "
   ]
  },
  {
   "cell_type": "code",
   "execution_count": 4,
   "id": "9a18dabc",
   "metadata": {},
   "outputs": [
    {
     "name": "stdout",
     "output_type": "stream",
     "text": [
      "Data after removing rows with NaNs in ['age', 'gender', 'ethnicity']: \n",
      "Train ((7494, 53)), \n",
      "Test ((1874, 53))\n",
      "\n",
      "Filled NaNs in ['height', 'weight'] with mean.\n",
      "\n",
      "After preprocessing: train columns= ['Unnamed: 0', 'encounter_id', 'hospital_id', 'age', 'bmi', 'elective_surgery', 'ethnicity', 'gender', 'height', 'hospital_admit_source', 'icu_admit_source', 'icu_id', 'icu_stay_type', 'icu_type', 'pre_icu_los_days', 'readmission_status', 'weight', 'albumin_apache', 'apache_2_diagnosis', 'apache_3j_diagnosis', 'apache_post_operative', 'arf_apache', 'bilirubin_apache', 'bun_apache', 'creatinine_apache', 'fio2_apache', 'gcs_eyes_apache', 'gcs_motor_apache', 'gcs_unable_apache', 'gcs_verbal_apache', 'glucose_apache', 'heart_rate_apache', 'hematocrit_apache', 'intubated_apache', 'map_apache', 'paco2_apache', 'paco2_for_ph_apache', 'pao2_apache', 'ph_apache', 'resprate_apache', 'sodium_apache', 'temp_apache', 'urineoutput_apache', 'ventilated_apache', 'wbc_apache', 'aids', 'cirrhosis', 'hepatic_failure', 'immunosuppression', 'leukemia', 'lymphoma', 'solid_tumor_with_metastasis', 'diabetes_mellitus']\n"
     ]
    }
   ],
   "source": [
    "# Preprocess (remove required nans, fill mean for numeric cols)\n",
    "preprocessor = DataPreprocessor(train_df, test_df)\n",
    "train_clean, test_clean = preprocessor.remove_nans(['age', 'gender', 'ethnicity']).fill_nans_with_mean(['height', 'weight']).get_data()\n",
    "print(\"After preprocessing: train columns=\", train_clean.columns.tolist())  "
   ]
  },
  {
   "cell_type": "code",
   "execution_count": 5,
   "id": "30ebf93a",
   "metadata": {},
   "outputs": [
    {
     "name": "stdout",
     "output_type": "stream",
     "text": [
      "Applied BMICalculator: produced -> ['bmi']\n",
      "\n",
      "Final train columns: ['Unnamed: 0', 'encounter_id', 'hospital_id', 'age', 'bmi', 'elective_surgery', 'ethnicity', 'gender', 'height', 'hospital_admit_source', 'icu_admit_source', 'icu_id', 'icu_stay_type', 'icu_type', 'pre_icu_los_days', 'readmission_status', 'weight', 'albumin_apache', 'apache_2_diagnosis', 'apache_3j_diagnosis', 'apache_post_operative', 'arf_apache', 'bilirubin_apache', 'bun_apache', 'creatinine_apache', 'fio2_apache', 'gcs_eyes_apache', 'gcs_motor_apache', 'gcs_unable_apache', 'gcs_verbal_apache', 'glucose_apache', 'heart_rate_apache', 'hematocrit_apache', 'intubated_apache', 'map_apache', 'paco2_apache', 'paco2_for_ph_apache', 'pao2_apache', 'ph_apache', 'resprate_apache', 'sodium_apache', 'temp_apache', 'urineoutput_apache', 'ventilated_apache', 'wbc_apache', 'aids', 'cirrhosis', 'hepatic_failure', 'immunosuppression', 'leukemia', 'lymphoma', 'solid_tumor_with_metastasis', 'diabetes_mellitus']\n",
      "Applied EthnicityEncoder: produced -> ['ethnicity_African American', 'ethnicity_Asian', 'ethnicity_Caucasian', 'ethnicity_Hispanic', 'ethnicity_Native American', 'ethnicity_Other/Unknown']\n",
      "\n",
      "Final train columns: ['Unnamed: 0', 'encounter_id', 'hospital_id', 'age', 'bmi', 'elective_surgery', 'ethnicity', 'gender', 'height', 'hospital_admit_source', 'icu_admit_source', 'icu_id', 'icu_stay_type', 'icu_type', 'pre_icu_los_days', 'readmission_status', 'weight', 'albumin_apache', 'apache_2_diagnosis', 'apache_3j_diagnosis', 'apache_post_operative', 'arf_apache', 'bilirubin_apache', 'bun_apache', 'creatinine_apache', 'fio2_apache', 'gcs_eyes_apache', 'gcs_motor_apache', 'gcs_unable_apache', 'gcs_verbal_apache', 'glucose_apache', 'heart_rate_apache', 'hematocrit_apache', 'intubated_apache', 'map_apache', 'paco2_apache', 'paco2_for_ph_apache', 'pao2_apache', 'ph_apache', 'resprate_apache', 'sodium_apache', 'temp_apache', 'urineoutput_apache', 'ventilated_apache', 'wbc_apache', 'aids', 'cirrhosis', 'hepatic_failure', 'immunosuppression', 'leukemia', 'lymphoma', 'solid_tumor_with_metastasis', 'diabetes_mellitus', 'ethnicity_African American', 'ethnicity_Asian', 'ethnicity_Caucasian', 'ethnicity_Hispanic', 'ethnicity_Native American', 'ethnicity_Other/Unknown']\n",
      "Applied GenderBinaryEncoder: produced -> ['gender_M', 'gender_F']\n",
      "\n",
      "Final train columns: ['Unnamed: 0', 'encounter_id', 'hospital_id', 'age', 'bmi', 'elective_surgery', 'ethnicity', 'gender', 'height', 'hospital_admit_source', 'icu_admit_source', 'icu_id', 'icu_stay_type', 'icu_type', 'pre_icu_los_days', 'readmission_status', 'weight', 'albumin_apache', 'apache_2_diagnosis', 'apache_3j_diagnosis', 'apache_post_operative', 'arf_apache', 'bilirubin_apache', 'bun_apache', 'creatinine_apache', 'fio2_apache', 'gcs_eyes_apache', 'gcs_motor_apache', 'gcs_unable_apache', 'gcs_verbal_apache', 'glucose_apache', 'heart_rate_apache', 'hematocrit_apache', 'intubated_apache', 'map_apache', 'paco2_apache', 'paco2_for_ph_apache', 'pao2_apache', 'ph_apache', 'resprate_apache', 'sodium_apache', 'temp_apache', 'urineoutput_apache', 'ventilated_apache', 'wbc_apache', 'aids', 'cirrhosis', 'hepatic_failure', 'immunosuppression', 'leukemia', 'lymphoma', 'solid_tumor_with_metastasis', 'diabetes_mellitus', 'ethnicity_African American', 'ethnicity_Asian', 'ethnicity_Caucasian', 'ethnicity_Hispanic', 'ethnicity_Native American', 'ethnicity_Other/Unknown', 'gender_M', 'gender_F']\n"
     ]
    }
   ],
   "source": [
    "# Apply feature transformers\n",
    "transformers = [BMICalculator(), EthnicityEncoder(), GenderBinaryEncoder()]\n",
    "for t in transformers:\n",
    "    train_clean = t.transform(train_clean)\n",
    "    test_clean = t.transform(test_clean)\n",
    "    print(f\"Applied {t.__class__.__name__}: produced -> {t.get_feature_names()}\")\n",
    "    print('\\nFinal train columns:', train_clean.columns.tolist())  "
   ]
  },
  {
   "cell_type": "code",
   "execution_count": 6,
   "id": "4856e9c7",
   "metadata": {},
   "outputs": [
    {
     "name": "stdout",
     "output_type": "stream",
     "text": [
      "Feature cols used: ['age', 'bmi', 'gender_M', 'gender_F', 'ethnicity_African American', 'ethnicity_Asian', 'ethnicity_Caucasian', 'ethnicity_Hispanic', 'ethnicity_Native American', 'ethnicity_Other/Unknown']\n",
      "Target: diabetes_mellitus\n"
     ]
    }
   ],
   "source": [
    "# Define features and target\n",
    "feature_cols = ['age', 'bmi', 'gender_M', 'gender_F'] + [c for c in train_clean.columns if c.startswith('ethnicity_')]\n",
    "target_col = 'diabetes_mellitus'\n",
    "print('Feature cols used:', feature_cols)\n",
    "print('Target:', target_col)\n",
    " "
   ]
  },
  {
   "cell_type": "code",
   "execution_count": 10,
   "id": "8fa40701",
   "metadata": {},
   "outputs": [
    {
     "name": "stdout",
     "output_type": "stream",
     "text": [
      "Model trained.\n"
     ]
    }
   ],
   "source": [
    "# Initialize and train model\n",
    "from process_data.model.predictor import DiabetesModel\n",
    "modelo = DiabetesModel(feature_columns=feature_cols, target_column=target_col, hyperparameters={'n_estimators':200, 'max_depth':10, 'random_state':42})\n",
    "modelo.train(train_clean)\n",
    "print('Model trained.') "
   ]
  },
  {
   "cell_type": "code",
   "execution_count": 11,
   "id": "d6baa16f",
   "metadata": {},
   "outputs": [
    {
     "name": "stdout",
     "output_type": "stream",
     "text": [
      "Predictions added to test dataframe.\n"
     ]
    }
   ],
   "source": [
    "# Predict probabilities on test set\n",
    "probs = modelo.predict(test_clean)  # shape (n_samples, n_classes)\n",
    "if probs.ndim == 2:\n",
    "    pos_probs = probs[:, 1]\n",
    "else:\n",
    "    #fallback: if single-column probabilities provided\n",
    "    pos_probs = probs\n",
    "test_with_preds = test_clean.copy()\n",
    "test_with_preds['predictions_prob'] = pos_probs\n",
    "test_with_preds['predictions'] = (pos_probs >= 0.5).astype(int)\n",
    "print('Predictions added to test dataframe.')"
   ]
  },
  {
   "cell_type": "code",
   "execution_count": 12,
   "id": "f0f5f736",
   "metadata": {},
   "outputs": [
    {
     "name": "stdout",
     "output_type": "stream",
     "text": [
      "Test ROC AUC: 0.6618\n",
      "Train ROC AUC: 0.8454\n"
     ]
    }
   ],
   "source": [
    "# Compute ROC AUC on test set (and train set if desired)\n",
    "y_test = test_with_preds[target_col]\n",
    "test_auc = roc_auc_score(y_test, test_with_preds['predictions_prob'])\n",
    "print(f\"Test ROC AUC: {test_auc:.4f}\")\n",
    "# Optionally compute train AUC as well\n",
    "train_probs = modelo.predict(train_clean)\n",
    "train_pos = train_probs[:, 1] if train_probs.ndim == 2 else train_probs\n",
    "train_auc = roc_auc_score(train_clean[target_col], train_pos)\n",
    "print(f\"Train ROC AUC: {train_auc:.4f}\")"
   ]
  },
  {
   "cell_type": "code",
   "execution_count": 13,
   "id": "e1030425",
   "metadata": {},
   "outputs": [
    {
     "data": {
      "application/vnd.microsoft.datawrangler.viewer.v0+json": {
       "columns": [
        {
         "name": "index",
         "rawType": "int64",
         "type": "integer"
        },
        {
         "name": "predictions_prob",
         "rawType": "float64",
         "type": "float"
        },
        {
         "name": "predictions",
         "rawType": "int64",
         "type": "integer"
        },
        {
         "name": "diabetes_mellitus",
         "rawType": "int64",
         "type": "integer"
        }
       ],
       "ref": "349a461e-285c-41a2-be30-6bcf8e462d01",
       "rows": [
        [
         "6252",
         "0.3727347089760897",
         "0",
         "1"
        ],
        [
         "1731",
         "0.20540289748889418",
         "0",
         "0"
        ],
        [
         "4742",
         "0.11326306468110206",
         "0",
         "0"
        ],
        [
         "4521",
         "0.16300314808280159",
         "0",
         "0"
        ],
        [
         "6340",
         "0.325807118583485",
         "0",
         "1"
        ],
        [
         "576",
         "0.1659623931313949",
         "0",
         "0"
        ],
        [
         "5202",
         "0.552098907033216",
         "1",
         "0"
        ],
        [
         "6363",
         "0.2547383528654275",
         "0",
         "1"
        ],
        [
         "439",
         "0.3301938462160552",
         "0",
         "1"
        ],
        [
         "2750",
         "0.037989311724198824",
         "0",
         "0"
        ]
       ],
       "shape": {
        "columns": 3,
        "rows": 10
       }
      },
      "text/html": [
       "<div>\n",
       "<style scoped>\n",
       "    .dataframe tbody tr th:only-of-type {\n",
       "        vertical-align: middle;\n",
       "    }\n",
       "\n",
       "    .dataframe tbody tr th {\n",
       "        vertical-align: top;\n",
       "    }\n",
       "\n",
       "    .dataframe thead th {\n",
       "        text-align: right;\n",
       "    }\n",
       "</style>\n",
       "<table border=\"1\" class=\"dataframe\">\n",
       "  <thead>\n",
       "    <tr style=\"text-align: right;\">\n",
       "      <th></th>\n",
       "      <th>predictions_prob</th>\n",
       "      <th>predictions</th>\n",
       "      <th>diabetes_mellitus</th>\n",
       "    </tr>\n",
       "  </thead>\n",
       "  <tbody>\n",
       "    <tr>\n",
       "      <th>6252</th>\n",
       "      <td>0.372735</td>\n",
       "      <td>0</td>\n",
       "      <td>1</td>\n",
       "    </tr>\n",
       "    <tr>\n",
       "      <th>1731</th>\n",
       "      <td>0.205403</td>\n",
       "      <td>0</td>\n",
       "      <td>0</td>\n",
       "    </tr>\n",
       "    <tr>\n",
       "      <th>4742</th>\n",
       "      <td>0.113263</td>\n",
       "      <td>0</td>\n",
       "      <td>0</td>\n",
       "    </tr>\n",
       "    <tr>\n",
       "      <th>4521</th>\n",
       "      <td>0.163003</td>\n",
       "      <td>0</td>\n",
       "      <td>0</td>\n",
       "    </tr>\n",
       "    <tr>\n",
       "      <th>6340</th>\n",
       "      <td>0.325807</td>\n",
       "      <td>0</td>\n",
       "      <td>1</td>\n",
       "    </tr>\n",
       "    <tr>\n",
       "      <th>576</th>\n",
       "      <td>0.165962</td>\n",
       "      <td>0</td>\n",
       "      <td>0</td>\n",
       "    </tr>\n",
       "    <tr>\n",
       "      <th>5202</th>\n",
       "      <td>0.552099</td>\n",
       "      <td>1</td>\n",
       "      <td>0</td>\n",
       "    </tr>\n",
       "    <tr>\n",
       "      <th>6363</th>\n",
       "      <td>0.254738</td>\n",
       "      <td>0</td>\n",
       "      <td>1</td>\n",
       "    </tr>\n",
       "    <tr>\n",
       "      <th>439</th>\n",
       "      <td>0.330194</td>\n",
       "      <td>0</td>\n",
       "      <td>1</td>\n",
       "    </tr>\n",
       "    <tr>\n",
       "      <th>2750</th>\n",
       "      <td>0.037989</td>\n",
       "      <td>0</td>\n",
       "      <td>0</td>\n",
       "    </tr>\n",
       "  </tbody>\n",
       "</table>\n",
       "</div>"
      ],
      "text/plain": [
       "      predictions_prob  predictions  diabetes_mellitus\n",
       "6252          0.372735            0                  1\n",
       "1731          0.205403            0                  0\n",
       "4742          0.113263            0                  0\n",
       "4521          0.163003            0                  0\n",
       "6340          0.325807            0                  1\n",
       "576           0.165962            0                  0\n",
       "5202          0.552099            1                  0\n",
       "6363          0.254738            0                  1\n",
       "439           0.330194            0                  1\n",
       "2750          0.037989            0                  0"
      ]
     },
     "execution_count": 13,
     "metadata": {},
     "output_type": "execute_result"
    }
   ],
   "source": [
    "# Show sample of test_with_preds\\n\",\n",
    "test_with_preds[['predictions_prob','predictions', target_col]].head(10)"
   ]
  }
 ],
 "metadata": {
  "kernelspec": {
   "display_name": "hw5",
   "language": "python",
   "name": "python3"
  },
  "language_info": {
   "codemirror_mode": {
    "name": "ipython",
    "version": 3
   },
   "file_extension": ".py",
   "mimetype": "text/x-python",
   "name": "python",
   "nbconvert_exporter": "python",
   "pygments_lexer": "ipython3",
   "version": "3.11.13"
  }
 },
 "nbformat": 4,
 "nbformat_minor": 5
}
