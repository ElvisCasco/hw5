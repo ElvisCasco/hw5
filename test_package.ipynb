{
 "cells": [
  {
   "cell_type": "markdown",
   "id": "967b6490",
   "metadata": {},
   "source": [
    "How to install the package\n",
    "\n",
    "- Open VS Code terminal in the project root:\n",
    "- Run:\n",
    "\n",
    "```\n",
    "cd \"c:\\EC\\BSE\\DSDM\\Term 1\\21DM004 Computing for Data Science\\hw5\\process_data_project\"\n",
    "python -m pip install -e .\n",
    "```"
   ]
  },
  {
   "cell_type": "code",
   "execution_count": 5,
   "id": "94f85e55",
   "metadata": {},
   "outputs": [
    {
     "name": "stdout",
     "output_type": "stream",
     "text": [
      "Collecting git+https://github.com/ElvisCasco/hw5.git@main\n",
      "  Cloning https://github.com/ElvisCasco/hw5.git (to revision main) to c:\\users\\ecasc\\appdata\\local\\temp\\pip-req-build-1xcmrmkw\n",
      "  Resolved https://github.com/ElvisCasco/hw5.git to commit daf4355761da12511f39921cf22609d034828db6\n",
      "  Installing build dependencies: started\n",
      "  Installing build dependencies: finished with status 'done'\n",
      "  Getting requirements to build wheel: started\n",
      "  Getting requirements to build wheel: finished with status 'done'\n",
      "  Preparing metadata (pyproject.toml): started\n",
      "  Preparing metadata (pyproject.toml): finished with status 'done'\n",
      "Requirement already satisfied: pandas>=2.3.0 in c:\\users\\ecasc\\appdata\\local\\programs\\python\\python313\\lib\\site-packages (from process_data==0.1.0) (2.3.3)\n",
      "Requirement already satisfied: numpy>=2.3.0 in c:\\users\\ecasc\\appdata\\local\\programs\\python\\python313\\lib\\site-packages (from process_data==0.1.0) (2.3.4)\n",
      "Requirement already satisfied: scikit-learn>=1.2 in c:\\users\\ecasc\\appdata\\local\\programs\\python\\python313\\lib\\site-packages (from process_data==0.1.0) (1.7.2)\n",
      "Requirement already satisfied: python-dateutil>=2.8.2 in c:\\users\\ecasc\\appdata\\local\\programs\\python\\python313\\lib\\site-packages (from pandas>=2.3.0->process_data==0.1.0) (2.9.0.post0)\n",
      "Requirement already satisfied: pytz>=2020.1 in c:\\users\\ecasc\\appdata\\local\\programs\\python\\python313\\lib\\site-packages (from pandas>=2.3.0->process_data==0.1.0) (2025.2)\n",
      "Requirement already satisfied: tzdata>=2022.7 in c:\\users\\ecasc\\appdata\\local\\programs\\python\\python313\\lib\\site-packages (from pandas>=2.3.0->process_data==0.1.0) (2025.2)\n",
      "Requirement already satisfied: six>=1.5 in c:\\users\\ecasc\\appdata\\local\\programs\\python\\python313\\lib\\site-packages (from python-dateutil>=2.8.2->pandas>=2.3.0->process_data==0.1.0) (1.17.0)\n",
      "Requirement already satisfied: scipy>=1.8.0 in c:\\users\\ecasc\\appdata\\local\\programs\\python\\python313\\lib\\site-packages (from scikit-learn>=1.2->process_data==0.1.0) (1.16.2)\n",
      "Requirement already satisfied: joblib>=1.2.0 in c:\\users\\ecasc\\appdata\\local\\programs\\python\\python313\\lib\\site-packages (from scikit-learn>=1.2->process_data==0.1.0) (1.5.2)\n",
      "Requirement already satisfied: threadpoolctl>=3.1.0 in c:\\users\\ecasc\\appdata\\local\\programs\\python\\python313\\lib\\site-packages (from scikit-learn>=1.2->process_data==0.1.0) (3.6.0)\n",
      "Building wheels for collected packages: process_data\n",
      "  Building wheel for process_data (pyproject.toml): started\n",
      "  Building wheel for process_data (pyproject.toml): finished with status 'done'\n",
      "  Created wheel for process_data: filename=process_data-0.1.0-py3-none-any.whl size=7722 sha256=ec5e695d930471a52eec83086adce99eeecb644529ac25d014442343b7fd615d\n",
      "  Stored in directory: C:\\Users\\ecasc\\AppData\\Local\\Temp\\pip-ephem-wheel-cache-3irft8cm\\wheels\\ba\\14\\d0\\f77d3df0a4f426f41340c9fb109952daa324eafc65e7cce0a1\n",
      "Successfully built process_data\n",
      "Installing collected packages: process_data\n",
      "  Attempting uninstall: process_data\n",
      "    Found existing installation: process-data 0.3\n",
      "    Uninstalling process-data-0.3:\n",
      "      Successfully uninstalled process-data-0.3\n",
      "Successfully installed process_data-0.1.0\n",
      "Note: you may need to restart the kernel to use updated packages.\n"
     ]
    },
    {
     "name": "stderr",
     "output_type": "stream",
     "text": [
      "  Running command git clone --filter=blob:none --quiet https://github.com/ElvisCasco/hw5.git 'C:\\Users\\ecasc\\AppData\\Local\\Temp\\pip-req-build-1xcmrmkw'\n",
      "ERROR: pip's dependency resolver does not currently take into account all the packages that are installed. This behaviour is the source of the following dependency conflicts.\n",
      "hw5 0.1.0 requires process-data>=0.3, but you have process-data 0.1.0 which is incompatible.\n"
     ]
    }
   ],
   "source": [
    "%pip install -U git+https://github.com/ElvisCasco/hw5.git@main"
   ]
  },
  {
   "cell_type": "code",
   "execution_count": 9,
   "id": "ed000176",
   "metadata": {},
   "outputs": [],
   "source": [
    "from process_data import (\n",
    "    CSVDataLoader, DataPreprocessor,\n",
    "    BMICalculator, EthnicityEncoder, GenderBinaryEncoder,\n",
    "    DiabetesModel,\n",
    ")\n",
    "from sklearn.metrics import roc_auc_score"
   ]
  },
  {
   "cell_type": "code",
   "execution_count": 10,
   "id": "1c97b9cc",
   "metadata": {},
   "outputs": [
    {
     "name": "stdout",
     "output_type": "stream",
     "text": [
      "\n",
      "Data loaded. Shape: (10000, 53)\n",
      "\n",
      "Data split: \n",
      "Train ((8000, 53)), \n",
      "Test ((2000, 53))\n",
      "\n",
      "Data after removing rows with NaNs in ['age', 'gender', 'ethnicity']: \n",
      "Train ((7494, 53)), \n",
      "Test ((1874, 53))\n",
      "\n",
      "Filled NaNs in ['height', 'weight'] with mean.\n",
      "\n"
     ]
    }
   ],
   "source": [
    "file_name = \"C:/EC/BSE/DSDM/Term 1/21DM004 Computing for Data Science/hw5/process_data_project/process_data/data/sample_diabetes_mellitus_data.csv\"\n",
    "\n",
    "loader = CSVDataLoader(file_name)\n",
    "train_df, test_df = loader.split_data()\n",
    "\n",
    "pre = DataPreprocessor(train_df, test_df)\n",
    "train_clean, test_clean = (\n",
    "    pre.remove_nans(['age','gender','ethnicity'])\n",
    "      .fill_nans_with_mean(['height','weight'])\n",
    "      .get_data()\n",
    ")\n",
    "\n",
    "for t in [BMICalculator(), EthnicityEncoder(), GenderBinaryEncoder()]:\n",
    "    train_clean = t.transform(train_clean)\n",
    "    test_clean = t.transform(test_clean)"
   ]
  },
  {
   "cell_type": "code",
   "execution_count": 11,
   "id": "0da95a5e",
   "metadata": {},
   "outputs": [
    {
     "data": {
      "text/plain": [
       "0.661790135180888"
      ]
     },
     "execution_count": 11,
     "metadata": {},
     "output_type": "execute_result"
    }
   ],
   "source": [
    "feature_cols = ['age', 'bmi', 'gender_M', 'gender_F'] + [c for c in train_clean.columns if c.startswith('ethnicity_')]\n",
    "target_col = 'diabetes_mellitus'\n",
    "\n",
    "model = DiabetesModel(feature_columns=feature_cols, target_column=target_col, hyperparameters={'n_estimators':200,'max_depth':10,'random_state':42})\n",
    "model.train(train_clean)\n",
    "\n",
    "probs = model.predict(test_clean)\n",
    "pos = probs[:,1] if probs.ndim == 2 else probs\n",
    "test_clean = test_clean.copy()\n",
    "test_clean['predictions_prob'] = pos\n",
    "test_clean['predictions'] = (pos >= 0.5).astype(int)\n",
    "\n",
    "roc_auc_score(test_clean[target_col], test_clean['predictions_prob'])"
   ]
  }
 ],
 "metadata": {
  "kernelspec": {
   "display_name": "Python 3.13.7 (Default)",
   "language": "python",
   "name": "python313-default"
  },
  "language_info": {
   "codemirror_mode": {
    "name": "ipython",
    "version": 3
   },
   "file_extension": ".py",
   "mimetype": "text/x-python",
   "name": "python",
   "nbconvert_exporter": "python",
   "pygments_lexer": "ipython3",
   "version": "3.13.7"
  }
 },
 "nbformat": 4,
 "nbformat_minor": 5
}
