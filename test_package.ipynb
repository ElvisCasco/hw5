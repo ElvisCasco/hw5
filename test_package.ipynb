{
 "cells": [
  {
   "cell_type": "markdown",
   "id": "967b6490",
   "metadata": {},
   "source": [
    "How to install the package\n",
    "\n",
    "- Open VS Code terminal in the project root:\n",
    "- Run:\n",
    "\n",
    "```\n",
    "cd \"c:\\EC\\BSE\\DSDM\\Term 1\\21DM004 Computing for Data Science\\hw5\\process_data_project\"\n",
    "python -m pip install -e .\n",
    "```"
   ]
  },
  {
   "cell_type": "code",
   "execution_count": 1,
   "id": "ed000176",
   "metadata": {},
   "outputs": [
    {
     "ename": "SyntaxError",
     "evalue": "invalid syntax (feature_transform.py, line 62)",
     "output_type": "error",
     "traceback": [
      "Traceback \u001b[36m(most recent call last)\u001b[39m:\n",
      "  File \u001b[92m~\\AppData\\Roaming\\Python\\Python313\\site-packages\\IPython\\core\\interactiveshell.py:3667\u001b[39m in \u001b[95mrun_code\u001b[39m\n    exec(code_obj, self.user_global_ns, self.user_ns)\n",
      "  Cell \u001b[92mIn[1]\u001b[39m\u001b[92m, line 1\u001b[39m\n    from process_data import (\n",
      "\u001b[36m  \u001b[39m\u001b[36mFile \u001b[39m\u001b[32mc:\\EC\\BSE\\DSDM\\Term 1\\21DM004 Computing for Data Science\\hw5\\process_data_project\\process_data\\__init__.py:2\u001b[39m\n\u001b[31m    \u001b[39m\u001b[31mfrom .features.feature_transform import BMICalculator, EthnicityEncoder, GenderBinaryEncoder\u001b[39m\n",
      "  \u001b[36mFile \u001b[39m\u001b[32mc:\\EC\\BSE\\DSDM\\Term 1\\21DM004 Computing for Data Science\\hw5\\process_data_project\\process_data\\features\\feature_transform.py:62\u001b[39m\n\u001b[31m    \u001b[39m\u001b[31mout[\"gender_F\"] = s.isin(self.female_vals).astype int\u001b[39m\n                                                      ^\n\u001b[31mSyntaxError\u001b[39m\u001b[31m:\u001b[39m invalid syntax\n"
     ]
    }
   ],
   "source": [
    "from process_data import (\n",
    "    CSVDataLoader, DataPreprocessor,\n",
    "    BMICalculator, EthnicityEncoder, GenderBinaryEncoder,\n",
    "    DiabetesModel,\n",
    ")\n",
    "from sklearn.metrics import roc_auc_score"
   ]
  },
  {
   "cell_type": "code",
   "execution_count": null,
   "id": "1c97b9cc",
   "metadata": {},
   "outputs": [],
   "source": [
    "file_name = \"C:/EC/BSE/DSDM/Term 1/21DM004 Computing for Data Science/hw5/process_data_project/process_data/data/sample_diabetes_mellitus_data.csv\"\n",
    "\n",
    "loader = CSVDataLoader(file_name)\n",
    "train_df, test_df = loader.split_data()\n",
    "\n",
    "pre = DataPreprocessor(train_df, test_df)\n",
    "train_clean, test_clean = (\n",
    "    pre.remove_nans(['age','gender','ethnicity'])\n",
    "      .fill_nans_with_mean(['height','weight'])\n",
    "      .get_data()\n",
    ")\n",
    "\n",
    "for t in [BMICalculator(), EthnicityEncoder(), GenderBinaryEncoder()]:\n",
    "    train_clean = t.transform(train_clean)\n",
    "    test_clean = t.transform(test_clean)"
   ]
  },
  {
   "cell_type": "code",
   "execution_count": null,
   "id": "0da95a5e",
   "metadata": {},
   "outputs": [],
   "source": [
    "feature_cols = ['age', 'bmi', 'gender_M', 'gender_F'] + [c for c in train_clean.columns if c.startswith('ethnicity_')]\n",
    "target_col = 'diabetes_mellitus'\n",
    "\n",
    "model = DiabetesModel(feature_columns=feature_cols, target_column=target_col, hyperparameters={'n_estimators':200,'max_depth':10,'random_state':42})\n",
    "model.train(train_clean)\n",
    "\n",
    "probs = model.predict(test_clean)\n",
    "pos = probs[:,1] if probs.ndim == 2 else probs\n",
    "test_clean = test_clean.copy()\n",
    "test_clean['predictions_prob'] = pos\n",
    "test_clean['predictions'] = (pos >= 0.5).astype(int)\n",
    "\n",
    "roc_auc_score(test_clean[target_col], test_clean['predictions_prob'])"
   ]
  }
 ],
 "metadata": {
  "kernelspec": {
   "display_name": "Python 3.13.7 (Default)",
   "language": "python",
   "name": "python313-default"
  },
  "language_info": {
   "codemirror_mode": {
    "name": "ipython",
    "version": 3
   },
   "file_extension": ".py",
   "mimetype": "text/x-python",
   "name": "python",
   "nbconvert_exporter": "python",
   "pygments_lexer": "ipython3",
   "version": "3.13.7"
  }
 },
 "nbformat": 4,
 "nbformat_minor": 5
}
