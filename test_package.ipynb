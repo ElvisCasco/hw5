{
 "cells": [
  {
   "cell_type": "code",
   "execution_count": 6,
   "id": "95182c85",
   "metadata": {},
   "outputs": [
    {
     "name": "stdout",
     "output_type": "stream",
     "text": [
      "Collecting git+https://github.com/ElvisCasco/hw5.git@main\n",
      "  Cloning https://github.com/ElvisCasco/hw5.git (to revision main) to /private/var/folders/f0/99976rv943qfw3wg20pdpchh0000gn/T/pip-req-build-889l_jxl\n",
      "  Running command git clone --filter=blob:none --quiet https://github.com/ElvisCasco/hw5.git /private/var/folders/f0/99976rv943qfw3wg20pdpchh0000gn/T/pip-req-build-889l_jxl\n",
      "  Resolved https://github.com/ElvisCasco/hw5.git to commit 55efceb71cef228b07cddeb7f87c07b63df09981\n",
      "  Installing build dependencies ... \u001b[?25ldone\n",
      "\u001b[?25h  Getting requirements to build wheel ... \u001b[?25ldone\n",
      "\u001b[?25h  Preparing metadata (pyproject.toml) ... \u001b[?25ldone\n",
      "\u001b[?25hCollecting asttokens<3 (from hw5==0.1.0)\n",
      "  Downloading asttokens-2.4.1-py2.py3-none-any.whl.metadata (5.2 kB)\n",
      "Collecting comm>=0.2.3 (from hw5==0.1.0)\n",
      "  Downloading comm-0.2.3-py3-none-any.whl.metadata (3.7 kB)\n",
      "Collecting debugpy>=1.8.17 (from hw5==0.1.0)\n",
      "  Downloading debugpy-1.8.17-py2.py3-none-any.whl.metadata (1.5 kB)\n",
      "Collecting ipython>=9.6.0 (from hw5==0.1.0)\n",
      "  Downloading ipython-9.6.0-py3-none-any.whl.metadata (4.4 kB)\n",
      "Collecting numpy>=2.3.4 (from hw5==0.1.0)\n",
      "  Downloading numpy-2.3.4-cp313-cp313-macosx_14_0_arm64.whl.metadata (62 kB)\n",
      "Collecting pandas>=2.3.3 (from hw5==0.1.0)\n",
      "  Downloading pandas-2.3.3-cp313-cp313-macosx_11_0_arm64.whl.metadata (91 kB)\n",
      "Collecting process-data>=0.3 (from hw5==0.1.0)\n",
      "  Downloading process_data-0.3-py3-none-any.whl.metadata (218 bytes)\n",
      "Collecting scikit-learn>=1.7.2 (from hw5==0.1.0)\n",
      "  Downloading scikit_learn-1.7.2-cp313-cp313-macosx_12_0_arm64.whl.metadata (11 kB)\n",
      "Collecting stack-data>=0.6.3 (from hw5==0.1.0)\n",
      "  Downloading stack_data-0.6.3-py3-none-any.whl.metadata (18 kB)\n",
      "Requirement already satisfied: six>=1.12.0 in /opt/anaconda3/lib/python3.13/site-packages (from asttokens<3->hw5==0.1.0) (1.17.0)\n",
      "Requirement already satisfied: decorator in /opt/anaconda3/lib/python3.13/site-packages (from ipython>=9.6.0->hw5==0.1.0) (5.1.1)\n",
      "Collecting ipython-pygments-lexers (from ipython>=9.6.0->hw5==0.1.0)\n",
      "  Downloading ipython_pygments_lexers-1.1.1-py3-none-any.whl.metadata (1.1 kB)\n",
      "Requirement already satisfied: jedi>=0.16 in /opt/anaconda3/lib/python3.13/site-packages (from ipython>=9.6.0->hw5==0.1.0) (0.19.2)\n",
      "Requirement already satisfied: matplotlib-inline in /opt/anaconda3/lib/python3.13/site-packages (from ipython>=9.6.0->hw5==0.1.0) (0.1.6)\n",
      "Requirement already satisfied: pexpect>4.3 in /opt/anaconda3/lib/python3.13/site-packages (from ipython>=9.6.0->hw5==0.1.0) (4.8.0)\n",
      "Requirement already satisfied: prompt_toolkit<3.1.0,>=3.0.41 in /opt/anaconda3/lib/python3.13/site-packages (from ipython>=9.6.0->hw5==0.1.0) (3.0.43)\n",
      "Requirement already satisfied: pygments>=2.4.0 in /opt/anaconda3/lib/python3.13/site-packages (from ipython>=9.6.0->hw5==0.1.0) (2.19.1)\n",
      "Requirement already satisfied: traitlets>=5.13.0 in /opt/anaconda3/lib/python3.13/site-packages (from ipython>=9.6.0->hw5==0.1.0) (5.14.3)\n",
      "Requirement already satisfied: wcwidth in /opt/anaconda3/lib/python3.13/site-packages (from prompt_toolkit<3.1.0,>=3.0.41->ipython>=9.6.0->hw5==0.1.0) (0.2.5)\n",
      "Requirement already satisfied: parso<0.9.0,>=0.8.4 in /opt/anaconda3/lib/python3.13/site-packages (from jedi>=0.16->ipython>=9.6.0->hw5==0.1.0) (0.8.4)\n",
      "Requirement already satisfied: python-dateutil>=2.8.2 in /opt/anaconda3/lib/python3.13/site-packages (from pandas>=2.3.3->hw5==0.1.0) (2.9.0.post0)\n",
      "Requirement already satisfied: pytz>=2020.1 in /opt/anaconda3/lib/python3.13/site-packages (from pandas>=2.3.3->hw5==0.1.0) (2024.1)\n",
      "Requirement already satisfied: tzdata>=2022.7 in /opt/anaconda3/lib/python3.13/site-packages (from pandas>=2.3.3->hw5==0.1.0) (2025.2)\n",
      "Requirement already satisfied: ptyprocess>=0.5 in /opt/anaconda3/lib/python3.13/site-packages (from pexpect>4.3->ipython>=9.6.0->hw5==0.1.0) (0.7.0)\n",
      "Requirement already satisfied: scipy>=1.8.0 in /opt/anaconda3/lib/python3.13/site-packages (from scikit-learn>=1.7.2->hw5==0.1.0) (1.15.3)\n",
      "Requirement already satisfied: joblib>=1.2.0 in /opt/anaconda3/lib/python3.13/site-packages (from scikit-learn>=1.7.2->hw5==0.1.0) (1.4.2)\n",
      "Requirement already satisfied: threadpoolctl>=3.1.0 in /opt/anaconda3/lib/python3.13/site-packages (from scikit-learn>=1.7.2->hw5==0.1.0) (3.5.0)\n",
      "Collecting executing>=1.2.0 (from stack-data>=0.6.3->hw5==0.1.0)\n",
      "  Downloading executing-2.2.1-py2.py3-none-any.whl.metadata (8.9 kB)\n",
      "Requirement already satisfied: pure-eval in /opt/anaconda3/lib/python3.13/site-packages (from stack-data>=0.6.3->hw5==0.1.0) (0.2.2)\n",
      "Downloading asttokens-2.4.1-py2.py3-none-any.whl (27 kB)\n",
      "Downloading comm-0.2.3-py3-none-any.whl (7.3 kB)\n",
      "Downloading debugpy-1.8.17-py2.py3-none-any.whl (5.3 MB)\n",
      "\u001b[2K   \u001b[90m━━━━━━━━━━━━━━━━━━━━━━━━━━━━━━━━━━━━━━━━\u001b[0m \u001b[32m5.3/5.3 MB\u001b[0m \u001b[31m16.4 MB/s\u001b[0m eta \u001b[36m0:00:00\u001b[0ma \u001b[36m0:00:01\u001b[0m\n",
      "\u001b[?25hDownloading ipython-9.6.0-py3-none-any.whl (616 kB)\n",
      "\u001b[2K   \u001b[90m━━━━━━━━━━━━━━━━━━━━━━━━━━━━━━━━━━━━━━━━\u001b[0m \u001b[32m616.2/616.2 kB\u001b[0m \u001b[31m16.3 MB/s\u001b[0m eta \u001b[36m0:00:00\u001b[0m\n",
      "\u001b[?25hDownloading numpy-2.3.4-cp313-cp313-macosx_14_0_arm64.whl (5.1 MB)\n",
      "\u001b[2K   \u001b[90m━━━━━━━━━━━━━━━━━━━━━━━━━━━━━━━━━━━━━━━━\u001b[0m \u001b[32m5.1/5.1 MB\u001b[0m \u001b[31m17.4 MB/s\u001b[0m eta \u001b[36m0:00:00\u001b[0ma \u001b[36m0:00:01\u001b[0m\n",
      "\u001b[?25hDownloading pandas-2.3.3-cp313-cp313-macosx_11_0_arm64.whl (10.7 MB)\n",
      "\u001b[2K   \u001b[90m━━━━━━━━━━━━━━━━━━━━━━━━━━━━━━━━━━━━━━━━\u001b[0m \u001b[32m10.7/10.7 MB\u001b[0m \u001b[31m15.0 MB/s\u001b[0m eta \u001b[36m0:00:00\u001b[0m \u001b[36m0:00:01\u001b[0m\n",
      "\u001b[?25hDownloading process_data-0.3-py3-none-any.whl (3.5 kB)\n",
      "Downloading scikit_learn-1.7.2-cp313-cp313-macosx_12_0_arm64.whl (8.6 MB)\n",
      "\u001b[2K   \u001b[90m━━━━━━━━━━━━━━━━━━━━━━━━━━━━━━━━━━━━━━━━\u001b[0m \u001b[32m8.6/8.6 MB\u001b[0m \u001b[31m19.0 MB/s\u001b[0m eta \u001b[36m0:00:00\u001b[0ma \u001b[36m0:00:01\u001b[0m\n",
      "\u001b[?25hDownloading stack_data-0.6.3-py3-none-any.whl (24 kB)\n",
      "Downloading executing-2.2.1-py2.py3-none-any.whl (28 kB)\n",
      "Downloading ipython_pygments_lexers-1.1.1-py3-none-any.whl (8.1 kB)\n",
      "Building wheels for collected packages: hw5\n",
      "  Building wheel for hw5 (pyproject.toml) ... \u001b[?25ldone\n",
      "\u001b[?25h  Created wheel for hw5: filename=hw5-0.1.0-py3-none-any.whl size=3270 sha256=59852351d18ee3ee2e8148acefbf060b35ac6c7a98ece576b8fa01fd38abcf01\n",
      "  Stored in directory: /private/var/folders/f0/99976rv943qfw3wg20pdpchh0000gn/T/pip-ephem-wheel-cache-zi71zrdi/wheels/ba/14/d0/f77d3df0a4f426f41340c9fb109952daa324eafc65e7cce0a1\n",
      "Successfully built hw5\n",
      "Installing collected packages: process-data, numpy, ipython-pygments-lexers, executing, debugpy, comm, asttokens, stack-data, pandas, scikit-learn, ipython, hw5\n",
      "\u001b[2K  Attempting uninstall: numpy\n",
      "\u001b[2K    Found existing installation: numpy 2.1.3\n",
      "\u001b[2K    Uninstalling numpy-2.1.3:\n",
      "\u001b[2K      Successfully uninstalled numpy-2.1.3\n",
      "\u001b[2K  Attempting uninstall: executing━━━━━━━━━━━━━━━━━━━━━━━━━━━━━━━━━\u001b[0m \u001b[32m 1/12\u001b[0m [numpy]\n",
      "\u001b[2K    Found existing installation: executing 0.8.3━━━━━━━━━━━━━━\u001b[0m \u001b[32m 1/12\u001b[0m [numpy]\n",
      "\u001b[2K    Uninstalling executing-0.8.3:━━━━━━━━━━━━━━━━━━━━━━━━━━━━━\u001b[0m \u001b[32m 1/12\u001b[0m [numpy]\n",
      "\u001b[2K      Successfully uninstalled executing-0.8.3━━━━━━━━━━━━━━━━\u001b[0m \u001b[32m 1/12\u001b[0m [numpy]\n",
      "\u001b[2K  Attempting uninstall: debugpy━━━━━━━━━━━━━━━━━━━━━━━━━━━━━━━\u001b[0m \u001b[32m 1/12\u001b[0m [numpy]\n",
      "\u001b[2K    Found existing installation: debugpy 1.8.11━━━━━━━━━━━━━━━\u001b[0m \u001b[32m 1/12\u001b[0m [numpy]\n",
      "\u001b[2K    Uninstalling debugpy-1.8.11:[0m\u001b[90m━━━━━━━━━━━━━━━━━━━━━━━━━━\u001b[0m \u001b[32m 4/12\u001b[0m [debugpy]\n",
      "\u001b[2K      Successfully uninstalled debugpy-1.8.11━━━━━━━━━━━━━━━━━\u001b[0m \u001b[32m 4/12\u001b[0m [debugpy]\n",
      "\u001b[2K  Attempting uninstall: comm0m╺\u001b[0m\u001b[90m━━━━━━━━━━━━━━━━━━━━━━━━━━\u001b[0m \u001b[32m 4/12\u001b[0m [debugpy]\n",
      "\u001b[2K    Found existing installation: comm 0.2.1━━━━━━━━━━━━━━━━━━━\u001b[0m \u001b[32m 4/12\u001b[0m [debugpy]\n",
      "\u001b[2K    Uninstalling comm-0.2.1:[0m\u001b[90m━━━━━━━━━━━━━━━━━━━━━━━━━━\u001b[0m \u001b[32m 4/12\u001b[0m [debugpy]\n",
      "\u001b[2K      Successfully uninstalled comm-0.2.1━━━━━━━━━━━━━━━━━━━━━\u001b[0m \u001b[32m 4/12\u001b[0m [debugpy]\n",
      "\u001b[2K  Attempting uninstall: asttokens90m━━━━━━━━━━━━━━━━━━━━━━━━━━\u001b[0m \u001b[32m 4/12\u001b[0m [debugpy]\n",
      "\u001b[2K    Found existing installation: asttokens 3.0.0━━━━━━━━━━━━━━\u001b[0m \u001b[32m 4/12\u001b[0m [debugpy]\n",
      "\u001b[2K    Uninstalling asttokens-3.0.0:90m━━━━━━━━━━━━━━━━━━━━━━━━━━\u001b[0m \u001b[32m 4/12\u001b[0m [debugpy]\n",
      "\u001b[2K      Successfully uninstalled asttokens-3.0.0━━━━━━━━━━━━━━━━\u001b[0m \u001b[32m 4/12\u001b[0m [debugpy]\n",
      "\u001b[2K  Attempting uninstall: stack-data0m━━━━━━━━━━━━━━━━━━━━━━━━━━\u001b[0m \u001b[32m 4/12\u001b[0m [debugpy]\n",
      "\u001b[2K    Found existing installation: stack-data 0.2.0━━━━━━━━━━━━━\u001b[0m \u001b[32m 4/12\u001b[0m [debugpy]\n",
      "\u001b[2K    Uninstalling stack-data-0.2.0:0m━━━━━━━━━━━━━━━━━━━━━━━━━━\u001b[0m \u001b[32m 4/12\u001b[0m [debugpy]\n",
      "\u001b[2K      Successfully uninstalled stack-data-0.2.0━━━━━━━━━━━━━━━\u001b[0m \u001b[32m 4/12\u001b[0m [debugpy]\n",
      "\u001b[2K  Attempting uninstall: pandasm\u001b[90m━━━━━━━━━━━━━━━━━━━━━━━━━━\u001b[0m \u001b[32m 4/12\u001b[0m [debugpy]\n",
      "\u001b[2K    Found existing installation: pandas 2.2.3━━━━━━━━━━━━━━━━━\u001b[0m \u001b[32m 4/12\u001b[0m [debugpy]\n",
      "\u001b[2K    Uninstalling pandas-2.2.3:━━━━\u001b[0m\u001b[91m╸\u001b[0m\u001b[90m━━━━━━━━━━━━━\u001b[0m \u001b[32m 8/12\u001b[0m [pandas]\n",
      "\u001b[2K      Successfully uninstalled pandas-2.2.3m\u001b[90m━━━━━━━━━━━━━\u001b[0m \u001b[32m 8/12\u001b[0m [pandas]\n",
      "\u001b[2K  Attempting uninstall: scikit-learn0m\u001b[91m╸\u001b[0m\u001b[90m━━━━━━━━━━━━━\u001b[0m \u001b[32m 8/12\u001b[0m [pandas]\n",
      "\u001b[2K    Found existing installation: scikit-learn 1.6.1━━━━━━━━━━━\u001b[0m \u001b[32m 8/12\u001b[0m [pandas]\n",
      "\u001b[2K    Uninstalling scikit-learn-1.6.1:91m╸\u001b[0m\u001b[90m━━━━━━━━━━━━━\u001b[0m \u001b[32m 8/12\u001b[0m [pandas]\n",
      "\u001b[2K      Successfully uninstalled scikit-learn-1.6.1[0m\u001b[90m━━━━━━━━━\u001b[0m \u001b[32m 9/12\u001b[0m [scikit-learn]\n",
      "\u001b[2K  Attempting uninstall: ipython━━━━━━━\u001b[0m\u001b[90m╺\u001b[0m\u001b[90m━━━━━━━━━\u001b[0m \u001b[32m 9/12\u001b[0m [scikit-learn]\n",
      "\u001b[2K    Found existing installation: ipython 8.30.0m\u001b[90m━━━━━━━━━\u001b[0m \u001b[32m 9/12\u001b[0m [scikit-learn]\n",
      "\u001b[2K    Uninstalling ipython-8.30.0:━━\u001b[0m\u001b[90m╺\u001b[0m\u001b[90m━━━━━━━━━\u001b[0m \u001b[32m 9/12\u001b[0m [scikit-learn]\n",
      "\u001b[2K      Successfully uninstalled ipython-8.30.0\u001b[90m╺\u001b[0m\u001b[90m━━━━━━\u001b[0m \u001b[32m10/12\u001b[0m [ipython]]\n",
      "\u001b[2K   \u001b[90m━━━━━━━━━━━━━━━━━━━━━━━━━━━━━━━━━━━━━━━━\u001b[0m \u001b[32m12/12\u001b[0m [hw5]32m10/12\u001b[0m [ipython]\n",
      "\u001b[1A\u001b[2K\u001b[31mERROR: pip's dependency resolver does not currently take into account all the packages that are installed. This behaviour is the source of the following dependency conflicts.\n",
      "spyder-kernels 3.0.5 requires ipython!=8.17.1,<9,>=8.13.0; python_version > \"3.8\", but you have ipython 9.6.0 which is incompatible.\n",
      "spyder 6.0.7 requires ipython!=8.17.1,<9.0.0,>=8.13.0; python_version > \"3.8\", but you have ipython 9.6.0 which is incompatible.\n",
      "numba 0.61.0 requires numpy<2.2,>=1.24, but you have numpy 2.3.4 which is incompatible.\n",
      "sklearn-compat 0.1.3 requires scikit-learn<1.7,>=1.2, but you have scikit-learn 1.7.2 which is incompatible.\u001b[0m\u001b[31m\n",
      "\u001b[0mSuccessfully installed asttokens-2.4.1 comm-0.2.3 debugpy-1.8.17 executing-2.2.1 hw5-0.1.0 ipython-9.6.0 ipython-pygments-lexers-1.1.1 numpy-2.3.4 pandas-2.3.3 process-data-0.3 scikit-learn-1.7.2 stack-data-0.6.3\n",
      "Note: you may need to restart the kernel to use updated packages.\n"
     ]
    }
   ],
   "source": [
    "%pip install -U git+https://github.com/ElvisCasco/hw5.git@main"
   ]
  },
  {
   "cell_type": "code",
   "execution_count": 1,
   "id": "ed000176",
   "metadata": {},
   "outputs": [],
   "source": [
    "from process_data import (\n",
    "    CSVDataLoader, DataPreprocessor,\n",
    "    BMICalculator, EthnicityEncoder, GenderBinaryEncoder,\n",
    "    DiabetesModel,\n",
    ")\n",
    "from sklearn.metrics import roc_auc_score"
   ]
  },
  {
   "cell_type": "code",
   "execution_count": 3,
   "id": "1c97b9cc",
   "metadata": {},
   "outputs": [
    {
     "name": "stdout",
     "output_type": "stream",
     "text": [
      "\n",
      "Data loaded. Shape: (10000, 53)\n",
      "\n",
      "Data split: \n",
      "Train ((8000, 53)), \n",
      "Test ((2000, 53))\n",
      "\n",
      "Data after removing rows with NaNs in ['age', 'gender', 'ethnicity']: \n",
      "Train ((7494, 53)), \n",
      "Test ((1874, 53))\n",
      "\n",
      "Filled NaNs in ['height', 'weight'] with mean.\n",
      "\n"
     ]
    }
   ],
   "source": [
    "file_name = \"sample_diabetes_mellitus_data.csv\"\n",
    "\n",
    "loader = CSVDataLoader(file_name)\n",
    "train_df, test_df = loader.split_data()\n",
    "\n",
    "pre = DataPreprocessor(train_df, test_df)\n",
    "train_clean, test_clean = (\n",
    "    pre.remove_nans(['age','gender','ethnicity'])\n",
    "      .fill_nans_with_mean(['height','weight'])\n",
    "      .get_data()\n",
    ")\n",
    "\n",
    "for t in [BMICalculator(), EthnicityEncoder(), GenderBinaryEncoder()]:\n",
    "    train_clean = t.transform(train_clean)\n",
    "    test_clean = t.transform(test_clean)"
   ]
  },
  {
   "cell_type": "code",
   "execution_count": 4,
   "id": "0da95a5e",
   "metadata": {},
   "outputs": [
    {
     "data": {
      "text/plain": [
       "np.float64(0.6611063857899039)"
      ]
     },
     "execution_count": 4,
     "metadata": {},
     "output_type": "execute_result"
    }
   ],
   "source": [
    "feature_cols = ['age', 'bmi', 'gender_M', 'gender_F'] + [c for c in train_clean.columns if c.startswith('ethnicity_')]\n",
    "target_col = 'diabetes_mellitus'\n",
    "\n",
    "model = DiabetesModel(feature_columns=feature_cols, target_column=target_col, hyperparameters={'n_estimators':200,'max_depth':10,'random_state':42})\n",
    "model.train(train_clean)\n",
    "\n",
    "probs = model.predict(test_clean)\n",
    "pos = probs[:,1] if probs.ndim == 2 else probs\n",
    "test_clean = test_clean.copy()\n",
    "test_clean['predictions_prob'] = pos\n",
    "test_clean['predictions'] = (pos >= 0.5).astype(int)\n",
    "\n",
    "roc_auc_score(test_clean[target_col], test_clean['predictions_prob'])"
   ]
  },
  {
   "cell_type": "code",
   "execution_count": 10,
   "id": "014ffa2f",
   "metadata": {},
   "outputs": [
    {
     "name": "stdout",
     "output_type": "stream",
     "text": [
      "      predictions_prob  predictions\n",
      "6252          0.371048            0\n",
      "1731          0.203191            0\n",
      "4742          0.112263            0\n",
      "4521          0.169594            0\n",
      "6340          0.319036            0\n"
     ]
    }
   ],
   "source": [
    "probs = model.predict(test_clean)\n",
    "pos = probs[:, 1] if probs.ndim == 2 else probs\n",
    "test_clean['predictions_prob'] = pos\n",
    "test_clean['predictions'] = (pos >= 0.5).astype(int)\n",
    "\n",
    "\n",
    "print(test_clean[['predictions_prob', 'predictions']].head())\n"
   ]
  },
  {
   "cell_type": "code",
   "execution_count": 9,
   "id": "45232af1",
   "metadata": {},
   "outputs": [
    {
     "data": {
      "text/plain": [
       "Index(['Unnamed: 0', 'encounter_id', 'hospital_id', 'age', 'bmi',\n",
       "       'elective_surgery', 'ethnicity', 'gender', 'height',\n",
       "       'hospital_admit_source', 'icu_admit_source', 'icu_id', 'icu_stay_type',\n",
       "       'icu_type', 'pre_icu_los_days', 'readmission_status', 'weight',\n",
       "       'albumin_apache', 'apache_2_diagnosis', 'apache_3j_diagnosis',\n",
       "       'apache_post_operative', 'arf_apache', 'bilirubin_apache', 'bun_apache',\n",
       "       'creatinine_apache', 'fio2_apache', 'gcs_eyes_apache',\n",
       "       'gcs_motor_apache', 'gcs_unable_apache', 'gcs_verbal_apache',\n",
       "       'glucose_apache', 'heart_rate_apache', 'hematocrit_apache',\n",
       "       'intubated_apache', 'map_apache', 'paco2_apache', 'paco2_for_ph_apache',\n",
       "       'pao2_apache', 'ph_apache', 'resprate_apache', 'sodium_apache',\n",
       "       'temp_apache', 'urineoutput_apache', 'ventilated_apache', 'wbc_apache',\n",
       "       'aids', 'cirrhosis', 'hepatic_failure', 'immunosuppression', 'leukemia',\n",
       "       'lymphoma', 'solid_tumor_with_metastasis', 'diabetes_mellitus',\n",
       "       'ethnicity_African American', 'ethnicity_Asian', 'ethnicity_Caucasian',\n",
       "       'ethnicity_Hispanic', 'ethnicity_Native American',\n",
       "       'ethnicity_Other/Unknown', 'gender_M', 'gender_F', 'predictions_prob',\n",
       "       'predictions'],\n",
       "      dtype='object')"
      ]
     },
     "execution_count": 9,
     "metadata": {},
     "output_type": "execute_result"
    }
   ],
   "source": [
    "test_clean.columns"
   ]
  }
 ],
 "metadata": {
  "kernelspec": {
   "display_name": "base",
   "language": "python",
   "name": "python3"
  },
  "language_info": {
   "codemirror_mode": {
    "name": "ipython",
    "version": 3
   },
   "file_extension": ".py",
   "mimetype": "text/x-python",
   "name": "python",
   "nbconvert_exporter": "python",
   "pygments_lexer": "ipython3",
   "version": "3.13.5"
  }
 },
 "nbformat": 4,
 "nbformat_minor": 5
}
