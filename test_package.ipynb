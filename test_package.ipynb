{
 "cells": [
  {
   "cell_type": "markdown",
   "id": "967b6490",
   "metadata": {},
   "source": [
    "How to install the package\n",
    "\n",
    "- Open VS Code terminal in the project root:\n",
    "- Run:\n",
    "\n",
    "```\n",
    "cd \"c:\\EC\\BSE\\DSDM\\Term 1\\21DM004 Computing for Data Science\\hw5\\process_data_project\"\n",
    "python -m pip install -e .\n",
    "```"
   ]
  },
  {
   "cell_type": "code",
   "execution_count": null,
   "id": "94f85e55",
   "metadata": {},
   "outputs": [],
   "source": [
    "%pip install -U git+https://github.com/ElvisCasco/hw5.git@main"
   ]
  },
  {
   "cell_type": "code",
   "execution_count": 2,
   "id": "ed000176",
   "metadata": {},
   "outputs": [],
   "source": [
    "from process_data import (\n",
    "    CSVDataLoader, DataPreprocessor,\n",
    "    BMICalculator, EthnicityEncoder, GenderBinaryEncoder,\n",
    "    DiabetesModel,\n",
    ")\n",
    "from sklearn.metrics import roc_auc_score"
   ]
  },
  {
   "cell_type": "code",
   "execution_count": 3,
   "id": "1c97b9cc",
   "metadata": {},
   "outputs": [
    {
     "name": "stdout",
     "output_type": "stream",
     "text": [
      "\n",
      "Data loaded. Shape: (10000, 53)\n",
      "\n",
      "Data split: \n",
      "Train ((8000, 53)), \n",
      "Test ((2000, 53))\n",
      "\n",
      "Data after removing rows with NaNs in ['age', 'gender', 'ethnicity']: \n",
      "Train ((7494, 53)), \n",
      "Test ((1874, 53))\n",
      "\n",
      "Filled NaNs in ['height', 'weight'] with mean.\n",
      "\n"
     ]
    }
   ],
   "source": [
    "file_name = \"C:/EC/BSE/DSDM/Term 1/21DM004 Computing for Data Science/hw5/process_data_project/process_data/data/sample_diabetes_mellitus_data.csv\"\n",
    "\n",
    "loader = CSVDataLoader(file_name)\n",
    "train_df, test_df = loader.split_data()\n",
    "\n",
    "pre = DataPreprocessor(train_df, test_df)\n",
    "train_clean, test_clean = (\n",
    "    pre.remove_nans(['age','gender','ethnicity'])\n",
    "      .fill_nans_with_mean(['height','weight'])\n",
    "      .get_data()\n",
    ")\n",
    "\n",
    "for t in [BMICalculator(), EthnicityEncoder(), GenderBinaryEncoder()]:\n",
    "    train_clean = t.transform(train_clean)\n",
    "    test_clean = t.transform(test_clean)"
   ]
  },
  {
   "cell_type": "code",
   "execution_count": 4,
   "id": "0da95a5e",
   "metadata": {},
   "outputs": [
    {
     "data": {
      "text/plain": [
       "0.661790135180888"
      ]
     },
     "execution_count": 4,
     "metadata": {},
     "output_type": "execute_result"
    }
   ],
   "source": [
    "feature_cols = ['age', 'bmi', 'gender_M', 'gender_F'] + [c for c in train_clean.columns if c.startswith('ethnicity_')]\n",
    "target_col = 'diabetes_mellitus'\n",
    "\n",
    "model = DiabetesModel(feature_columns=feature_cols, target_column=target_col, hyperparameters={'n_estimators':200,'max_depth':10,'random_state':42})\n",
    "model.train(train_clean)\n",
    "\n",
    "probs = model.predict(test_clean)\n",
    "pos = probs[:,1] if probs.ndim == 2 else probs\n",
    "test_clean = test_clean.copy()\n",
    "test_clean['predictions_prob'] = pos\n",
    "test_clean['predictions'] = (pos >= 0.5).astype(int)\n",
    "\n",
    "roc_auc_score(test_clean[target_col], test_clean['predictions_prob'])"
   ]
  }
 ],
 "metadata": {
  "kernelspec": {
   "display_name": "Python 3.13.7 (Default)",
   "language": "python",
   "name": "python313-default"
  },
  "language_info": {
   "codemirror_mode": {
    "name": "ipython",
    "version": 3
   },
   "file_extension": ".py",
   "mimetype": "text/x-python",
   "name": "python",
   "nbconvert_exporter": "python",
   "pygments_lexer": "ipython3",
   "version": "3.13.7"
  }
 },
 "nbformat": 4,
 "nbformat_minor": 5
}
